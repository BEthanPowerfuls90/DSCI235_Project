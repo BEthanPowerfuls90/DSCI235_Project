{
 "cells": [
  {
   "cell_type": "markdown",
   "id": "ce47db73",
   "metadata": {},
   "source": [
    "# DSCI 235 Final Project - Winter Olympics / GDP\n",
    "### By: Ethan Powers & Nathan Mitchell\n",
    "##### Data Used:\n",
    "First Source: https://raw.githubusercontent.com/BEthanPowerfuls90/DSCI235_Project/main/Winer%20Olympic%20Medals.csv             \n",
    "Second Source: https://raw.githubusercontent.com/BEthanPowerfuls90/DSCI235_Project/main/gdp-per-capita-maddison-2020.csv\n",
    "---\n",
    "##### Description:\n",
    "    For this project, we have decided to analyze data concerning the Winter Olympics since its induction in 1924 up until 2014. The only years in which the Olympic Games did not take place were 1940 and 1944 due to World War II. To guide this project, we have come up with an overlying hypothesis: countries that are known for different winter sports compete well in those categories in the Winter Olympics.\n",
    "\n",
    "    For example, countries like Canada are known for their ice hockey while Russia is known for their figure skating. What we wish to examine with our data is to see  if they rank best for most overall medals and most Gold medals in this category. We also want to see how long they have been ranking this well, given we find that they are. On top of this, we also wish to know which countries rank for sports that aren’t as well known. Curling, for example, is an event at the Winter Olympics, but no immediate country comes to mind as to who may rank best in this event.\n",
    "\n",
    "    We are also interested in seeing which countries have won the most total medals (Bronze, Silver, and Gold) and, more specifically, which have won the most Gold medals between the Winter Olympics in 1924 and 2014. For this, we will make a histogram for the top 10 countries in both 1924 and 2014 according to the total number of medals they have won. Some of these countries may not have won any medals back in 1924 because they didn’t exist yet, but we will indicate that in the analysis. Due to this fact, we will need to deal with NaN values in our analysis.\n",
    "\n",
    "    Another hypothesis that we wish to examine is to see if countries with higher average GDPs perform better in the Winter Olympics. To analyze this question, we will need to pull in data on GDP and compare the data between 1924 to 2018 to see if we can find any truth behind this statement. For this, we plan to make a line graph of GDP per year in the ten countries that have the highest GDPs and compare this to how many medals that country has won every year. To do this, we will only be considering countries that participate in the Winter Olympics.\n",
    " ---\n",
    " ##### Loading In The Data:"
   ]
  },
  {
   "cell_type": "code",
   "execution_count": 40,
   "id": "c1fb76a5",
   "metadata": {},
   "outputs": [],
   "source": [
    "import pandas as pd\n",
    "winter = pd.read_csv('https://raw.githubusercontent.com/BEthanPowerfuls90/DSCI235_Project/main/Winer%20Olympic%20Medals.csv')\n",
    "\n",
    "gdp = pd.read_csv('https://raw.githubusercontent.com/BEthanPowerfuls90/DSCI235_Project/main/gdp-per-capita-maddison-2020.csv').dropna(axis=1)"
   ]
  },
  {
   "cell_type": "markdown",
   "id": "4dfe6ca5",
   "metadata": {},
   "source": [
    " ##### Creating a Multi-Index:"
   ]
  },
  {
   "cell_type": "code",
   "execution_count": 43,
   "id": "8b719caa",
   "metadata": {},
   "outputs": [
    {
     "ename": "SyntaxError",
     "evalue": "invalid syntax (Temp/ipykernel_1336/1258153774.py, line 12)",
     "output_type": "error",
     "traceback": [
      "\u001b[1;36m  File \u001b[1;32m\"C:\\Users\\NATHAN~1\\AppData\\Local\\Temp/ipykernel_1336/1258153774.py\"\u001b[1;36m, line \u001b[1;32m12\u001b[0m\n\u001b[1;33m    winter = winter.sort_values(by = ['Country', 'Year', 'Sport'], ascending = True)\u001b[0m\n\u001b[1;37m    ^\u001b[0m\n\u001b[1;31mSyntaxError\u001b[0m\u001b[1;31m:\u001b[0m invalid syntax\n"
     ]
    }
   ],
   "source": [
    "#Note: should only be run once\n",
    "idx = pd.IndexSlice\n",
    "\n",
    "gdp.rename(columns = {'Entity':'Country'}, inplace = True)\n",
    "gdp = gdp.sort_values(by = ['Country', 'Year'], ascending=True)\n",
    "gdp = gdp.loc[(gdp['Year'] >= 1924) & (gdp['Year'] <= 2018)]\n",
    "gdp = gdp = gdp.reset_index()\n",
    "gdp = gdp.loc[:, ['Country', 'Year', 'GDP per capita']]\n",
    "gdp = gdp.set_index(['Country', 'Year']\n",
    "\n",
    "\n",
    "winter = winter.sort_values(by = ['Country', 'Year', 'Sport'], ascending = True)\n",
    "winter['Medal Rank'] = winter['Medal Rank'].apply(lambda x: 1)\n",
    "winter = winter.set_index(['Country', 'Sport', 'Year', 'Medal'])\n",
    "winter = winter.rename(columns = {'Medal Rank':'Medal Count'})\n",
    "gdp"
   ]
  },
  {
   "cell_type": "markdown",
   "id": "e1b05b7d",
   "metadata": {},
   "source": [
    "##### Preliminary Analysis or whatever change this later:"
   ]
  },
  {
   "cell_type": "code",
   "execution_count": 4,
   "id": "3b7b1651",
   "metadata": {},
   "outputs": [],
   "source": [
    "#THIS IS HOW TO GET TOTAL MEDALS / MEDAL PER TYPE\n",
    "tot_med = winter.groupby(['Country', 'Medal']).aggregate('sum')\n",
    "\n",
    "#MOST TOTAL MEDALS\n",
    "#tot_med.groupby(['Country']).sum().sort_values(by = 'Medal Count', ascending = False)\n",
    "\n",
    "#MOST GOLD MEDALS\n",
    "#Gold = tot_med.loc[idx[:, 'gold', :]].sort_values(by = 'Medal Count', ascending = False)\n",
    "\n",
    "#MOST SILVER MEDALS\n",
    "#Silver = tot_med.loc[idx[:, 'silver', :]].sort_values(by = 'Medal Count', ascending = False)\n",
    "\n",
    "#MOST BRONZE MEDALS\n",
    "#Bronze = tot_med.loc[idx[:, 'bronze', :]].sort_values(by = 'Medal Count', ascending = False)"
   ]
  },
  {
   "cell_type": "markdown",
   "id": "7fe7a8ad",
   "metadata": {},
   "source": [
    "##### Plotting Medals Won Over Time - Norway"
   ]
  },
  {
   "cell_type": "code",
   "execution_count": 36,
   "id": "f66ef32a",
   "metadata": {
    "scrolled": false
   },
   "outputs": [
    {
     "data": {
      "image/png": "[encoded data removed]",
      "text/plain": [
       "<Figure size 720x720 with 3 Axes>"
      ]
     },
     "metadata": {
      "needs_background": "light"
     },
     "output_type": "display_data"
    }
   ],
   "source": [
    "%matplotlib inline\n",
    "import matplotlib.pylab as plt\n",
    "\n",
    "fig, axs = plt.subplots(3, sharex = False, sharey = True)\n",
    "fig.set_figheight(10)\n",
    "fig.set_figwidth(10)\n",
    "fig.set\n",
    "plt.suptitle('Gold, Silver, and Bronze Medals won by Norway', y=.9)\n",
    "\n",
    "medal_plot_gold = winter.groupby(['Country', 'Year', 'Medal']).aggregate('sum').loc[idx[:, :, 'gold', :]]\n",
    "\n",
    "Norway_one_gold = medal_plot_gold.loc['Norway']['Medal Count'].loc[1924:1940].reset_index().drop(columns='Medal', axis=1).set_index(['Year'])['Medal Count']\n",
    "Norway_two_gold = medal_plot_gold.loc['Norway']['Medal Count'].loc[1948:1984].reset_index().drop(columns='Medal', axis=1).set_index(['Year'])['Medal Count']\n",
    "Norway_three_gold = medal_plot_gold.loc['Norway']['Medal Count'].loc[1988:1994].reset_index().drop(columns='Medal', axis=1).set_index(['Year'])['Medal Count']\n",
    "Norway_four_gold = medal_plot_gold.loc['Norway']['Medal Count'].loc[1994:2014].reset_index().drop(columns='Medal', axis=1).set_index(['Year'])['Medal Count']\n",
    "\n",
    "x1 = range(1924, 1940, 4)\n",
    "x2 = range(1948, 1985, 4)\n",
    "x3 = range(1992, 1995, 2)\n",
    "x4 = range(1994, 2015, 4)\n",
    "\n",
    "axs[0].bar(x1, Norway_one_gold, color = 'gold', width = 1.9)\n",
    "axs[0].bar(x2, Norway_two_gold, color = 'gold', width = 1.9)\n",
    "axs[0].bar(x3, Norway_three_gold, color = 'gold', width = 1.9)\n",
    "axs[0].bar(x4, Norway_four_gold, color = 'gold', width = 1.9)\n",
    "plt.sca(axs[0])\n",
    "plt.xticks(range(1924, 2020, 4), rotation = -45)\n",
    "axs[0].spines['top'].set_visible(False)\n",
    "axs[0].spines['right'].set_visible(False)\n",
    "\n",
    "\n",
    "medal_plot_silver = winter.groupby(['Country', 'Year', 'Medal']).aggregate('sum').loc[idx[:, :, 'silver', :]]\n",
    "\n",
    "Norway_one_silver = medal_plot_silver.loc['Norway']['Medal Count'].loc[1924:1940].reset_index().drop(columns='Medal', axis=1).set_index(['Year'])['Medal Count']\n",
    "Norway_two_silver = medal_plot_silver.loc['Norway']['Medal Count'].loc[1948:1992].reset_index().drop(columns='Medal', axis=1).set_index(['Year'])['Medal Count']\n",
    "Norway_three_silver = medal_plot_silver.loc['Norway']['Medal Count'].loc[1994:2014].reset_index().drop(columns='Medal', axis=1).set_index(['Year'])['Medal Count']\n",
    "\n",
    "x5 = range(1948, 1995, 4)\n",
    "\n",
    "axs[1].bar(x1, Norway_one_silver, color = 'silver', width = 1.9)\n",
    "axs[1].bar(x5, Norway_two_silver, color = 'silver', width = 1.9)\n",
    "axs[1].bar(x4, Norway_three_silver, color = 'silver', width = 1.9)\n",
    "plt.sca(axs[1])\n",
    "plt.xticks(range(1924, 2020, 4), rotation = -45)\n",
    "axs[1].spines['top'].set_visible(False)\n",
    "axs[1].spines['right'].set_visible(False)\n",
    "\n",
    "\n",
    "medal_plot_bronze = winter.groupby(['Country', 'Year', 'Medal']).aggregate('sum').loc[idx[:, :, 'bronze', :]]\n",
    "\n",
    "Norway_one_bronze = medal_plot_bronze.loc['Norway']['Medal Count'].loc[1924:1940].reset_index().drop(columns='Medal', axis=1).set_index(['Year'])['Medal Count']\n",
    "Norway_two_bronze = medal_plot_bronze.loc['Norway']['Medal Count'].loc[1948:1956].reset_index().drop(columns='Medal', axis=1).set_index(['Year'])['Medal Count']\n",
    "Norway_three_bronze = medal_plot_bronze.loc['Norway']['Medal Count'].loc[1964:1992].reset_index().drop(columns='Medal', axis=1).set_index(['Year'])['Medal Count']\n",
    "Norway_four_bronze = medal_plot_bronze.loc['Norway']['Medal Count'].loc[1994:2014].reset_index().drop(columns='Medal', axis=1).set_index(['Year'])['Medal Count']\n",
    "\n",
    "x6 = range(1948, 1957, 4)\n",
    "x7 = range(1964, 1995, 4)\n",
    "x8 = range(1994, 2015, 4)\n",
    "\n",
    "axs[2].bar(x1, Norway_one_bronze, color = 'sienna', width = 1.9)\n",
    "axs[2].bar(x6, Norway_two_bronze, color = 'sienna', width = 1.9)\n",
    "axs[2].bar(x7, Norway_three_bronze, color = 'sienna', width = 1.9)\n",
    "axs[2].bar(x8, Norway_four_bronze, color = 'sienna', width = 1.9)\n",
    "plt.sca(axs[2])\n",
    "plt.xticks(range(1924, 2020, 4), rotation = -45)\n",
    "axs[2].spines['top'].set_visible(False)\n",
    "axs[2].spines['right'].set_visible(False)\n",
    "\n",
    "\n",
    "plt.subplots_adjust(hspace = .3)"
   ]
  },
  {
   "cell_type": "markdown",
   "id": "388893e8",
   "metadata": {},
   "source": [
    "    One of the first things we noticed from creating this plot was that the years did not line up properly. The first Winter Olympics was held in 1924. If held every four years, there should have been games in 2016 and 2020. This, however, is   not the case. What we learned is that in the 1990s the games were changed to happen in-between when the Summer Olympics, so the Winter Olympics were held in 1992 and the again two years later in 1994. Visually, this can be seen by looking at the numbers of medals won 1994 and beyond. Instead of occuring on a tick, they appear between ticks.\n",
    "    \n",
    "    We noticed two things of interest here. First, as stated before, there is a break in medals won from the 1944 and 1948  Winter Olympics becaues of WWII. The second thing of interest is that Norway did not win any Gold medals in any category in the 1988 Winter Olympics. They also did not win any Bronze medals in 1960.\n",
    "   "
   ]
  },
  {
   "cell_type": "code",
   "execution_count": null,
   "id": "c37608b2",
   "metadata": {},
   "outputs": [],
   "source": [
    "#ADD IN SOMETHING THAT CHECKS THE SUM OF EVENTS EACH YEAR. THIS MAY EXPLAIN THE INCREASE IN MEDALS WON"
   ]
  }
 ],
 "metadata": {
  "kernelspec": {
   "display_name": "Python 3 (ipykernel)",
   "language": "python",
   "name": "python3"
  },
  "language_info": {
   "codemirror_mode": {
    "name": "ipython",
    "version": 3
   },
   "file_extension": ".py",
   "mimetype": "text/x-python",
   "name": "python",
   "nbconvert_exporter": "python",
   "pygments_lexer": "ipython3",
   "version": "3.9.7"
  }
 },
 "nbformat": 4,
 "nbformat_minor": 5
}
