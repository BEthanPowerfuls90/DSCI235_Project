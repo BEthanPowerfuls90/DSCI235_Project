{
 "cells": [
  {
   "cell_type": "code",
   "execution_count": null,
   "id": "97ad4df9-6042-41bb-9d1d-bc8caf478c0e",
   "metadata": {},
   "outputs": [],
   "source": [
    "Test test\n",
    "sldjt\n"
   ]
  },
  {
   "cell_type": "code",
   "execution_count": null,
   "id": "b0006d03-51f3-4a4c-998d-f8ad9a97094e",
   "metadata": {},
   "outputs": [],
   "source": [
    "sdfsadf"
   ]
  }
 ],
 "metadata": {
  "kernelspec": {
   "display_name": "Python 3 (ipykernel)",
   "language": "python",
   "name": "python3"
  },
  "language_info": {
   "codemirror_mode": {
    "name": "ipython",
    "version": 3
   },
   "file_extension": ".py",
   "mimetype": "text/x-python",
   "name": "python",
   "nbconvert_exporter": "python",
   "pygments_lexer": "ipython3",
   "version": "3.9.7"
  }
 },
 "nbformat": 4,
 "nbformat_minor": 5
}
